{
 "cells": [
  {
   "cell_type": "markdown",
   "id": "f130ffcb",
   "metadata": {},
   "source": [
    "# <font color='lightseagreen'> *Case Study: How Does a Bike-Share Navigate Speedy Success*\n",
    "---\n",
    "\n",
    "  > ###  <font color='salmon'>   • Business task statement: Cyclistic is a bike-share company in Chicago. It has two broad classifications of customers, casual riders and annual members. Cyclistic’s finance analysts have concluded that annual members are much more profitable than casual riders. The director of marketing believes the company’s future success depends on maximizing the number of annual memberships. To do that, however, the marketing analyst team, which I am a part of, needs to better understand how annual members and casual riders differ, why casual riders would buy a membership, and how digital media could affect their marketing tactics. As a junior data analyst, my role is to answer the question: How do annual members and casual riders use Cyclistic bikes differently? From the insights we get, we will design an innovative marketing strategy to convert casual riders into annual members.</font>\n",
    "   \n",
    "   ---\n",
    "\n",
    "\n",
    "  > ### <font color='salmon'> • This notebook analyzes a 12-month data to come up with insights that will help provide solution to the business problem above.</font>\n",
    "    \n",
    "  > ### <font color='scarlet'> • The project was originally completed in Apr, 2023</font>\n",
    "  > ### <font color='scarlet'> • Last updated Oct, 2023</font>"
   ]
  },
  {
   "cell_type": "markdown",
   "id": "1f667537",
   "metadata": {},
   "source": [
    "### Import the libraries for data analysis and visualization"
   ]
  },
  {
   "cell_type": "code",
   "execution_count": null,
   "id": "a4a503bc",
   "metadata": {},
   "outputs": [],
   "source": [
    "import pandas as pd             # Helps with data manipulation\n",
    "import matplotlib.pyplot as plt # Helps with data visualization\n",
    "import numpy as np              # Helps with data computation"
   ]
  },
  {
   "cell_type": "markdown",
   "id": "8f67173e",
   "metadata": {},
   "source": [
    "### Create a list of the CSV file paths for each month of data"
   ]
  },
  {
   "cell_type": "code",
   "execution_count": null,
   "id": "9f2ca9e3",
   "metadata": {},
   "outputs": [],
   "source": [
    "# Create a list of the CSV file paths\n",
    "csv_file_paths = [\n",
    "    \"202203-divvy-tripdata.csv\",\n",
    "    \"202204-divvy-tripdata.csv\",\n",
    "    \"202205-divvy-tripdata.csv\",\n",
    "    \"202206-divvy-tripdata.csv\",\n",
    "    \"202207-divvy-tripdata.csv\",\n",
    "    \"202208-divvy-tripdata.csv\",\n",
    "    \"202209-divvy-tripdata.csv\",\n",
    "    \"202210-divvy-tripdata.csv\",\n",
    "    \"202211-divvy-tripdata.csv\",\n",
    "    \"202212-divvy-tripdata.csv\",\n",
    "    \"202301-divvy-tripdata.csv\",\n",
    "    \"202302-divvy-tripdata.csv\",\n",
    "]"
   ]
  },
  {
   "cell_type": "markdown",
   "id": "5a687480",
   "metadata": {},
   "source": [
    "### Read the CSV files into Pandas data frames and merge them into one data frame"
   ]
  },
  {
   "cell_type": "code",
   "execution_count": null,
   "id": "f86fa312",
   "metadata": {},
   "outputs": [],
   "source": [
    "# Read the CSV files into Pandas data frames\n",
    "# It does that so by iterating over the list we created above\n",
    "df_list = [pd.read_csv(file_path) for file_path in csv_file_paths]\n",
    "\n",
    "# Merge the data frames using the `pd.concat()` function\n",
    "merged_df = pd.concat(df_list, ignore_index=True)\n",
    "\n",
    "# Write the merged data frame to a new CSV file\n",
    "merged_df.to_csv(\"merged.csv\", index=False)"
   ]
  },
  {
   "cell_type": "markdown",
   "id": "2a813689",
   "metadata": {},
   "source": [
    "### Explore the merged data frames and its columns"
   ]
  },
  {
   "cell_type": "code",
   "execution_count": null,
   "id": "0ef4a4c9",
   "metadata": {},
   "outputs": [],
   "source": [
    "merged_df"
   ]
  },
  {
   "cell_type": "markdown",
   "id": "cb7d8a92",
   "metadata": {},
   "source": [
    "### Remove all duplicate rows from the merged data frames and save it to a new CSV file"
   ]
  },
  {
   "cell_type": "code",
   "execution_count": null,
   "id": "014c8e99",
   "metadata": {},
   "outputs": [],
   "source": [
    "# Read the merged CSV file\n",
    "data = pd.read_csv(\"merged.csv\")\n",
    "\n",
    "# Remove all duplicate rows\n",
    "merged_deduplicated = data.drop_duplicates()\n",
    "\n",
    "# Write the merged data frame to a new CSV file\n",
    "merged_deduplicated.to_csv(\"merged_deduplicated.csv\", index=False)"
   ]
  },
  {
   "cell_type": "markdown",
   "id": "13e0abeb",
   "metadata": {},
   "source": [
    "### Remove the unnecessary columns that contain location data as we will not need it for this analysis"
   ]
  },
  {
   "cell_type": "code",
   "execution_count": null,
   "id": "2d517420",
   "metadata": {},
   "outputs": [],
   "source": [
    "# Read the merged CSV file\n",
    "data = pd.read_csv(\"merged_deduplicated.csv\")\n",
    "\n",
    "# Remove the unnecessary columns\n",
    "data = data.drop(columns=[\"start_lat\", \"start_lng\", \"end_lat\", \"end_lng\"])\n",
    "\n",
    "data"
   ]
  },
  {
   "cell_type": "markdown",
   "id": "543e2def",
   "metadata": {},
   "source": [
    "### Add new columns for date, month, day, year, day of week, and ride length"
   ]
  },
  {
   "cell_type": "code",
   "execution_count": null,
   "id": "5a3ee92f",
   "metadata": {},
   "outputs": [],
   "source": [
    "# Add a column for the date\n",
    "data[\"date\"] = pd.to_datetime(data[\"started_at\"])\n",
    "\n",
    "# Add a column for the month\n",
    "data[\"month\"] = pd.to_datetime(data[\"date\"], format='%m').dt.month_name()\n",
    "\n",
    "# Add a column for the day\n",
    "data[\"day\"] = data[\"date\"].dt.day\n",
    "\n",
    "# Add a column for the year\n",
    "data[\"year\"] = data[\"date\"].dt.year\n",
    "\n",
    "# Add a column for the day of the week\n",
    "data[\"day_of_week\"] = data[\"date\"].dt.day_name()\n",
    "\n",
    "# Add a column for the ride length in seconds\n",
    "data[\"ended_at\"] = pd.to_datetime(data[\"ended_at\"])\n",
    "data[\"started_at\"] = pd.to_datetime(data[\"started_at\"])\n",
    "data[\"ride_length_sec\"] = (data[\"ended_at\"] - data[\"started_at\"]).dt.total_seconds()\n",
    "\n",
    "\n",
    "# Filter out rows where the start_station_name is \"HQ QR\" or the ride_length is less than 0\n",
    "# The data frame includes a few hundred entries when bikes were taken out of docks and checked\n",
    "# for quality by Divvy or ride_length was negative\n",
    "data = data[~((data[\"start_station_name\"] == \"HQ QR\") | (data[\"ride_length_sec\"] < 0))]\n",
    "\n",
    "# Write the updated data frame to a new CSV file\n",
    "data.to_csv(\"dataCleaned.csv\", index=False)\n",
    "\n",
    "data"
   ]
  },
  {
   "cell_type": "markdown",
   "id": "0701855a",
   "metadata": {},
   "source": [
    "### Create a pivot table to summarize the ride length statistics by rider type"
   ]
  },
  {
   "cell_type": "code",
   "execution_count": null,
   "id": "a17d7877",
   "metadata": {},
   "outputs": [],
   "source": [
    "# Create a pivot table to summarize the mean, median, max, and min ride length by member casual\n",
    "ride_length_summary = data.pivot_table(\n",
    "    index=\"member_casual\",\n",
    "    values=\"ride_length_sec\",\n",
    "    aggfunc=[\"mean\", \"median\", \"max\", \"min\"],\n",
    ")\n",
    "\n",
    "# Print the pivot table\n",
    "print(ride_length_summary)"
   ]
  },
  {
   "cell_type": "markdown",
   "id": "0c28a078",
   "metadata": {},
   "source": [
    "### Run this before you go any further"
   ]
  },
  {
   "cell_type": "code",
   "execution_count": null,
   "id": "a4efbd49",
   "metadata": {},
   "outputs": [],
   "source": [
    "# To avoid SettingWithCopyWarning by not having to modifying the original data frame\n",
    "data = data.copy()"
   ]
  },
  {
   "cell_type": "markdown",
   "id": "a394aa34",
   "metadata": {},
   "source": [
    "### Create a pie chart to visualize the proportion of casual vs. member riders"
   ]
  },
  {
   "cell_type": "code",
   "execution_count": null,
   "id": "c7e023c2",
   "metadata": {},
   "outputs": [],
   "source": [
    "# Group the data by member_casual and count the number of rides for each group\n",
    "ride_counts = data.groupby(\"member_casual\").size()\n",
    "\n",
    "# Create a pie chart using matplotlib.pyplot\n",
    "plt.figure(figsize=(4, 4))\n",
    "ride_counts.plot(kind=\"pie\", autopct=\"%1.f%%\", labels=None, colors=[\"lightseagreen\", \"salmon\"])\n",
    "plt.ylabel('')\n",
    "plt.legend([\"Casual\", \"Member\"], loc=\"best\")\n",
    "plt.title(\"Casual vs. Member Riders\")\n",
    "plt.savefig(\"pie_chart.png\")"
   ]
  },
  {
   "cell_type": "markdown",
   "id": "7cc72eb7",
   "metadata": {},
   "source": [
    "### Create a bar chart to visualize the number of rides by rider type and day of the week"
   ]
  },
  {
   "cell_type": "code",
   "execution_count": null,
   "id": "46263337",
   "metadata": {},
   "outputs": [],
   "source": [
    "# Define the order of days\n",
    "days_order = ['Monday', 'Tuesday', 'Wednesday', 'Thursday', 'Friday', 'Saturday', 'Sunday']\n",
    "\n",
    "# Convert 'day_of_week' to a categorical type\n",
    "data['day_of_week'] = pd.Categorical(data['day_of_week'], categories=days_order, ordered=True)\n",
    "\n",
    "# Create a pivot table to summarize the number of rides by rider type and day of the week\n",
    "ride_counts = data.pivot_table(\n",
    "    index=\"day_of_week\",\n",
    "    columns=\"member_casual\",\n",
    "    values=\"ride_length_sec\",\n",
    "    aggfunc=np.size,\n",
    ")\n",
    "\n",
    "# Create a bar chart to visualize the number of rides by rider type and day of the week\n",
    "plt.figure(figsize=(10, 6))\n",
    "ride_counts.plot(kind=\"bar\", stacked=False, color=['lightseagreen', 'salmon'])\n",
    "plt.xlabel(\"Day of the Week\")\n",
    "plt.ylabel(\"Number of Rides\")\n",
    "plt.title(\"Casual vs. Member Number of Rides on Different Days of the Week\")\n",
    "plt.xticks(rotation=45)\n",
    "plt.tight_layout()\n",
    "plt.savefig(\"ride_counts_week.png\")"
   ]
  },
  {
   "cell_type": "markdown",
   "id": "b2aa5b55",
   "metadata": {},
   "source": [
    "### Create a bar chart to visualize the number of rides by rider type and rideable type"
   ]
  },
  {
   "cell_type": "code",
   "execution_count": null,
   "id": "cc29adfa",
   "metadata": {},
   "outputs": [],
   "source": [
    "# Create a pivot table to summarize the number of rides by rider type and rideable type\n",
    "ride_counts_rideable_type = data.pivot_table(\n",
    "    index=\"rideable_type\",\n",
    "    columns=\"member_casual\",\n",
    "    values=\"ride_length_sec\",\n",
    "    aggfunc=np.size,\n",
    ")\n",
    "\n",
    "# Create a bar chart to visualize the number of rides by rider type and rideable type\n",
    "plt.figure(figsize=(10, 6))\n",
    "ride_counts_rideable_type.plot(kind=\"bar\", stacked=True, color=['lightseagreen', 'salmon'])\n",
    "plt.xlabel(\"Rideable Type\")\n",
    "plt.ylabel(\"Number of Rides\")\n",
    "plt.title(\"Casual vs. Member Number of Rides on Different Rideable Types\")\n",
    "plt.ticklabel_format(style='plain', axis='y')\n",
    "plt.xticks(rotation=45)\n",
    "plt.tight_layout()\n",
    "plt.savefig(\"ride_counts_rideable_type.png\")"
   ]
  },
  {
   "cell_type": "markdown",
   "id": "87508466",
   "metadata": {},
   "source": [
    "### Create a bar chart to visualize the number of rides by rider type and month"
   ]
  },
  {
   "cell_type": "code",
   "execution_count": null,
   "id": "da88e3ac",
   "metadata": {
    "scrolled": true
   },
   "outputs": [],
   "source": [
    "# Define the order of months\n",
    "months_order = ['January', 'February', 'March', 'April', 'May', 'June', 'July', 'August', 'September', 'October', 'November', 'December']\n",
    "\n",
    "# Convert 'month' to a categorical type\n",
    "data['month'] = pd.Categorical(data['month'], categories=months_order, ordered=True)\n",
    "\n",
    "# Create a pivot table to summarize the number of rides by rider type and month\n",
    "ride_counts_month = data.pivot_table(\n",
    "    index=\"month\",\n",
    "    columns=\"member_casual\",\n",
    "    values=\"ride_length_sec\",\n",
    "    aggfunc=np.size,\n",
    ")\n",
    "\n",
    "# Create a bar chart to visualize the number of rides by rider type and month\n",
    "plt.figure(figsize=(10, 6))\n",
    "ride_counts_month.plot(kind=\"bar\", stacked=False, color=['lightseagreen', 'salmon'])\n",
    "plt.xlabel(\"Month\")\n",
    "plt.ylabel(\"Number of Rides\")\n",
    "plt.title(\"Casual vs. Member Number of Rides on Different Months\")\n",
    "plt.xticks(rotation=45)\n",
    "plt.tight_layout()\n",
    "plt.savefig(\"ride_counts_month.png\")"
   ]
  },
  {
   "cell_type": "markdown",
   "id": "5b6aea5b",
   "metadata": {},
   "source": [
    "### Create a bar chart to visualize the average ride duration by rider type and day of the week"
   ]
  },
  {
   "cell_type": "code",
   "execution_count": null,
   "id": "2200bd23",
   "metadata": {},
   "outputs": [],
   "source": [
    "# Define the order of days\n",
    "days_order = ['Monday', 'Tuesday', 'Wednesday', 'Thursday', 'Friday', 'Saturday', 'Sunday']\n",
    "\n",
    "# Convert 'day_of_week' to a categorical type\n",
    "data['day_of_week'] = pd.Categorical(data['day_of_week'], categories=days_order, ordered=True)\n",
    "\n",
    "# Create a pivot table to summarize the average ride duration by rider type and day of the week\n",
    "ride_counts = data.pivot_table(\n",
    "    index=\"day_of_week\",\n",
    "    columns=\"member_casual\",\n",
    "    values=\"ride_length_sec\",\n",
    "    aggfunc=np.mean,\n",
    ")\n",
    "\n",
    "# Create a bar chart to visualize the average ride duration by rider type and day of the week\n",
    "plt.figure(figsize=(10, 6))\n",
    "ride_counts.plot(kind=\"bar\", stacked=False, color=['lightseagreen', 'salmon'])\n",
    "plt.xlabel(\"Day of the Week\")\n",
    "plt.ylabel(\"Average Ride Duration\")\n",
    "plt.title(\"Casual vs. Member Average Ride Duration on Different Days of the Week\")\n",
    "plt.xticks(rotation=45)\n",
    "plt.tight_layout()\n",
    "plt.savefig(\"ride_average_duration_week.png\")"
   ]
  }
 ],
 "metadata": {
  "kernelspec": {
   "display_name": "Python 3 (ipykernel)",
   "language": "python",
   "name": "python3"
  },
  "language_info": {
   "codemirror_mode": {
    "name": "ipython",
    "version": 3
   },
   "file_extension": ".py",
   "mimetype": "text/x-python",
   "name": "python",
   "nbconvert_exporter": "python",
   "pygments_lexer": "ipython3",
   "version": "3.9.13"
  }
 },
 "nbformat": 4,
 "nbformat_minor": 5
}
